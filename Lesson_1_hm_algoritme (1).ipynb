{
 "cells": [
  {
   "cell_type": "markdown",
   "metadata": {
    "id": "Kw01g10zBjZr"
   },
   "source": [
    "## Урок 1. Алгоритм линейной регрессии. Градиентный спуск"
   ]
  },
  {
   "cell_type": "code",
   "execution_count": 7,
   "metadata": {
    "id": "ak8b3KV45kVW"
   },
   "outputs": [],
   "source": [
    "import numpy as np\n",
    "import matplotlib.pyplot as plt"
   ]
  },
  {
   "cell_type": "markdown",
   "metadata": {
    "id": "VphnS-M8BjZ5"
   },
   "source": [
    "__Задача:__ предсказание баллов ЕГЭ ученика в зависимости от количества лет стажа его репетитора"
   ]
  },
  {
   "cell_type": "code",
   "execution_count": 20,
   "metadata": {
    "id": "i77tZbAd5plB",
    "outputId": "784cb9ea-d0b1-4633-8ded-80edaa795b76"
   },
   "outputs": [
    {
     "data": {
      "text/plain": [
       "array([[ 1,  1,  1,  1,  1,  1,  1,  1,  1,  1],\n",
       "       [ 1,  1,  2,  5,  3,  0,  5, 10,  1,  2]])"
      ]
     },
     "execution_count": 20,
     "metadata": {},
     "output_type": "execute_result"
    }
   ],
   "source": [
    "X = np.array([[1, 1, 1, 1, 1, 1, 1, 1, 1, 1],\n",
    "              [1, 1, 2, 5, 3, 0, 5, 10, 1, 2]])\n",
    "X"
   ]
  },
  {
   "cell_type": "code",
   "execution_count": 21,
   "metadata": {
    "colab": {
     "base_uri": "https://localhost:8080/",
     "height": 34
    },
    "id": "ejifaMBe6VaP",
    "outputId": "190a541b-5c6d-48f6-8982-b513de5d7606"
   },
   "outputs": [
    {
     "data": {
      "text/plain": [
       "(2, 10)"
      ]
     },
     "execution_count": 21,
     "metadata": {},
     "output_type": "execute_result"
    }
   ],
   "source": [
    "X.shape"
   ]
  },
  {
   "cell_type": "code",
   "execution_count": 22,
   "metadata": {
    "id": "VsNrKi1Q6Wmh"
   },
   "outputs": [],
   "source": [
    "y = [45, 55, 50, 55, 60, 35, 75, 80, 50, 60]"
   ]
  },
  {
   "cell_type": "markdown",
   "metadata": {
    "id": "KCwytUyLBjZ_"
   },
   "source": [
    "Уравнение прямой: $y = a*x + b$"
   ]
  },
  {
   "cell_type": "code",
   "execution_count": 28,
   "metadata": {
    "id": "NntLxvtU7CbH"
   },
   "outputs": [],
   "source": [
    "y_pred1 = 35 * np.ones(10) + X[1]*5\n",
    "y_pred2 = 40 * np.ones(10) + X[1]*7.5"
   ]
  },
  {
   "cell_type": "code",
   "execution_count": 34,
   "metadata": {
    "colab": {
     "base_uri": "https://localhost:8080/",
     "height": 282
    },
    "id": "OTikrodr6n-i",
    "outputId": "9c347927-ae0d-40ba-bcd7-fdd9de2688bf"
   },
   "outputs": [
    {
     "data": {
      "image/png": "[encoded data removed]",
      "text/plain": [
       "<Figure size 432x288 with 1 Axes>"
      ]
     },
     "metadata": {
      "needs_background": "light"
     },
     "output_type": "display_data"
    }
   ],
   "source": [
    "plt.scatter(X[1], y)\n",
    "plt.plot(X[1], y_pred1, label='1')\n",
    "plt.plot(X[1], y_pred2, label='2')\n",
    "plt.legend()\n",
    "plt.show()"
   ]
  },
  {
   "cell_type": "markdown",
   "metadata": {
    "id": "PoGiEvgRBjaE"
   },
   "source": [
    "Простая ошибка:"
   ]
  },
  {
   "cell_type": "code",
   "execution_count": 32,
   "metadata": {
    "id": "zbsqjAxH9WqI",
    "outputId": "275ebf45-370d-4b10-d672-a515fab31e7c"
   },
   "outputs": [
    {
     "data": {
      "text/plain": [
       "(65.0, -60.0)"
      ]
     },
     "execution_count": 32,
     "metadata": {},
     "output_type": "execute_result"
    }
   ],
   "source": [
    "err1 = np.sum(y - y_pred1)\n",
    "err2 = np.sum(y - y_pred2)\n",
    "err1, err2"
   ]
  },
  {
   "cell_type": "markdown",
   "metadata": {
    "id": "mKomUlv3BjaG"
   },
   "source": [
    "MAE (Mean Absolute Error):"
   ]
  },
  {
   "cell_type": "code",
   "execution_count": 33,
   "metadata": {
    "id": "vUqCthPf9eYI",
    "outputId": "ae4eefa4-ba6b-4bee-a26d-fa573d9a70f9"
   },
   "outputs": [
    {
     "data": {
      "text/plain": [
       "(8.5, 9.0)"
      ]
     },
     "execution_count": 33,
     "metadata": {},
     "output_type": "execute_result"
    }
   ],
   "source": [
    "mae_1 = np.sum(np.abs(y - y_pred1)) / 10\n",
    "mae_2 = np.sum(np.abs(y - y_pred2)) / 10\n",
    "mae_1, mae_2"
   ]
  },
  {
   "cell_type": "markdown",
   "metadata": {
    "id": "QdkR8AXyBjaI"
   },
   "source": [
    "MSE (Mean Squared Error):"
   ]
  },
  {
   "cell_type": "code",
   "execution_count": 34,
   "metadata": {
    "id": "XTn2bZIg_EBS",
    "outputId": "ec71ad62-9b62-4308-fcd0-239f107d35c3"
   },
   "outputs": [
    {
     "data": {
      "text/plain": [
       "(97.5, 188.75)"
      ]
     },
     "execution_count": 34,
     "metadata": {},
     "output_type": "execute_result"
    }
   ],
   "source": [
    "mse_1 = np.mean((y - y_pred1)**2)\n",
    "mse_2 = np.mean((y - y_pred2)**2)\n",
    "mse_1, mse_2"
   ]
  },
  {
   "cell_type": "code",
   "execution_count": 67,
   "metadata": {},
   "outputs": [
    {
     "data": {
      "text/plain": [
       "array([45.0625,  3.8125])"
      ]
     },
     "execution_count": 67,
     "metadata": {},
     "output_type": "execute_result"
    }
   ],
   "source": [
    "W_0 = np.linalg.inv(X @ X.T) @ X @ y\n",
    "W_0"
   ]
  },
  {
   "cell_type": "markdown",
   "metadata": {
    "id": "R4zHyZ2Da5HV"
   },
   "source": [
    "Метод наименьших квадратов (МНК):"
   ]
  },
  {
   "cell_type": "code",
   "execution_count": 35,
   "metadata": {
    "colab": {
     "base_uri": "https://localhost:8080/",
     "height": 34
    },
    "id": "GEeiext0BR1m",
    "outputId": "2a5e98e6-e201-4cf9-c113-bb207490b31e"
   },
   "outputs": [
    {
     "data": {
      "text/plain": [
       "(2, 10)"
      ]
     },
     "execution_count": 35,
     "metadata": {},
     "output_type": "execute_result"
    }
   ],
   "source": [
    "X.shape"
   ]
  },
  {
   "cell_type": "code",
   "execution_count": 36,
   "metadata": {
    "colab": {
     "base_uri": "https://localhost:8080/",
     "height": 34
    },
    "id": "j1BN1FZHBVo8",
    "outputId": "d5820bdf-e0a3-4de0-96ef-b73e9b43fd64"
   },
   "outputs": [
    {
     "data": {
      "text/plain": [
       "(10, 2)"
      ]
     },
     "execution_count": 36,
     "metadata": {},
     "output_type": "execute_result"
    }
   ],
   "source": [
    "X.T.shape"
   ]
  },
  {
   "cell_type": "code",
   "execution_count": 37,
   "metadata": {
    "id": "X6Jhs8W8BjaK",
    "outputId": "42e35057-8799-4927-8ee2-b320fa3e88e4"
   },
   "outputs": [
    {
     "data": {
      "text/plain": [
       "True"
      ]
     },
     "execution_count": 37,
     "metadata": {},
     "output_type": "execute_result"
    }
   ],
   "source": [
    "all(X @ y == np.dot(X,y))"
   ]
  },
  {
   "cell_type": "code",
   "execution_count": 38,
   "metadata": {
    "colab": {
     "base_uri": "https://localhost:8080/",
     "height": 34
    },
    "id": "mnyZzkaDBegD",
    "outputId": "368800a6-deef-46d0-b27f-d6eb5e46a743"
   },
   "outputs": [
    {
     "data": {
      "text/plain": [
       "array([45.0625,  3.8125])"
      ]
     },
     "execution_count": 38,
     "metadata": {},
     "output_type": "execute_result"
    }
   ],
   "source": [
    "W = np.linalg.inv(np.dot(X, X.T)) @ X @ y\n",
    "W"
   ]
  },
  {
   "cell_type": "code",
   "execution_count": 53,
   "metadata": {
    "id": "IukREVxDBjaM"
   },
   "outputs": [],
   "source": [
    "y_pred3 = W[0] * X[0] + W[1] * X[1]"
   ]
  },
  {
   "cell_type": "code",
   "execution_count": 54,
   "metadata": {
    "colab": {
     "base_uri": "https://localhost:8080/",
     "height": 282
    },
    "id": "Lyg-J3H7Bnv5",
    "outputId": "7701dd28-d123-4773-cd1f-1439abfb6d90"
   },
   "outputs": [
    {
     "data": {
      "image/png": "[encoded data removed]",
      "text/plain": [
       "<Figure size 432x288 with 1 Axes>"
      ]
     },
     "metadata": {
      "needs_background": "light"
     },
     "output_type": "display_data"
    }
   ],
   "source": [
    "plt.scatter(X[1], y)\n",
    "plt.plot(X[1], y_pred1, label='1 - manual')\n",
    "plt.plot(X[1], y_pred2, label='2 - manual')\n",
    "plt.plot(X[1], y_pred3, label='3 - analytical solution')\n",
    "plt.legend()\n",
    "plt.show()"
   ]
  },
  {
   "cell_type": "code",
   "execution_count": 55,
   "metadata": {
    "id": "JTSC2cFnCd8T"
   },
   "outputs": [],
   "source": [
    "def calc_mae(y, y_pred):\n",
    "    err = np.mean(np.abs(y - y_pred))\n",
    "    return err\n",
    "\n",
    "def calc_mse(y, y_pred):\n",
    "    err = np.mean((y - y_pred)**2) # <=> 1/n * np.sum((y_pred - y)**2)\n",
    "    return err"
   ]
  },
  {
   "cell_type": "code",
   "execution_count": 56,
   "metadata": {
    "colab": {
     "base_uri": "https://localhost:8080/",
     "height": 34
    },
    "id": "MYSrwISJDGfS",
    "outputId": "891bfd3a-142c-466c-a9d9-7ebfb303e86c"
   },
   "outputs": [
    {
     "data": {
      "text/plain": [
       "(8.5, 97.5)"
      ]
     },
     "execution_count": 56,
     "metadata": {},
     "output_type": "execute_result"
    }
   ],
   "source": [
    "calc_mae(y, y_pred1), calc_mse(y, y_pred1)"
   ]
  },
  {
   "cell_type": "code",
   "execution_count": 57,
   "metadata": {
    "colab": {
     "base_uri": "https://localhost:8080/",
     "height": 34
    },
    "id": "oi4FNXFlBjaN",
    "outputId": "891bfd3a-142c-466c-a9d9-7ebfb303e86c"
   },
   "outputs": [
    {
     "data": {
      "text/plain": [
       "(9.0, 188.75)"
      ]
     },
     "execution_count": 57,
     "metadata": {},
     "output_type": "execute_result"
    }
   ],
   "source": [
    "calc_mae(y, y_pred2), calc_mse(y, y_pred2)"
   ]
  },
  {
   "cell_type": "code",
   "execution_count": 58,
   "metadata": {
    "colab": {
     "base_uri": "https://localhost:8080/",
     "height": 34
    },
    "id": "_WtO6lvhDmQ6",
    "outputId": "8de8b895-85d8-448e-f565-b70e93a5dd25"
   },
   "outputs": [
    {
     "data": {
      "text/plain": [
       "(22.8375, 597.4895833333333)"
      ]
     },
     "execution_count": 58,
     "metadata": {},
     "output_type": "execute_result"
    }
   ],
   "source": [
    "calc_mae(y, y_pred3), calc_mse(y, y_pred3)"
   ]
  },
  {
   "cell_type": "markdown",
   "metadata": {
    "id": "JAOgIXLRa--g"
   },
   "source": [
    "Градиентный спуск"
   ]
  },
  {
   "cell_type": "code",
   "execution_count": 59,
   "metadata": {
    "id": "DNebwUP7Fd8F"
   },
   "outputs": [],
   "source": [
    "n = 10\n",
    "Q = 1/n * np.sum((y_pred3 - y)**2) # функционал ошибки, y = X*w"
   ]
  },
  {
   "cell_type": "code",
   "execution_count": 60,
   "metadata": {
    "id": "5DKkvmkwHdOx"
   },
   "outputs": [],
   "source": [
    "alpha = 1e-2 # величина шага\n",
    "g = alpha * (1/n * 2 * np.sum(X[0] * (W[0] * X[0] - y)))"
   ]
  },
  {
   "cell_type": "code",
   "execution_count": 64,
   "metadata": {
    "colab": {
     "base_uri": "https://localhost:8080/",
     "height": 34
    },
    "id": "ZVRCF5P2MYI6",
    "outputId": "0b0e2f05-a23c-4bf8-f37d-b4240d2e0af0"
   },
   "outputs": [
    {
     "data": {
      "text/plain": [
       "(11.104166666666664, 12.012083333333331)"
      ]
     },
     "execution_count": 64,
     "metadata": {},
     "output_type": "execute_result"
    }
   ],
   "source": [
    "W[0], W[0] - g"
   ]
  },
  {
   "cell_type": "markdown",
   "metadata": {
    "id": "QqGEYJDNBjaP"
   },
   "source": [
    "### Практическое задание"
   ]
  },
  {
   "cell_type": "markdown",
   "metadata": {
    "id": "huXrhXQsZTMt"
   },
   "source": [
    "1. Подберите скорость обучения (alpha) и количество итераций."
   ]
  },
  {
   "cell_type": "code",
   "execution_count": 48,
   "metadata": {
    "colab": {
     "base_uri": "https://localhost:8080/",
     "height": 185
    },
    "id": "IDB22MQKMYaJ",
    "outputId": "4c03219e-a57c-4583-f439-6699fd0619bb"
   },
   "outputs": [
    {
     "name": "stdout",
     "output_type": "stream",
     "text": [
      "Number of objects = 10        \n",
      "Learning rate = 0.01        \n",
      "Initial weights = [1.  0.5] \n",
      "\n",
      "Iteration #0: W_new = [2.08 4.27], MSE = 3047.75\n",
      "Iteration #10: W_new = [ 6.67106886 10.61676385], MSE = 749.71\n",
      "Iteration #20: W_new = [ 9.49320908 10.25731657], MSE = 648.91\n",
      "Iteration #30: W_new = [11.85740092  9.83349244], MSE = 570.46\n",
      "Iteration #40: W_new = [13.86876921  9.46898661], MSE = 508.03\n",
      "Iteration #50: W_new = [15.59085668  9.15672679], MSE = 457.73\n",
      "Iteration #60: W_new = [17.07337653  8.88789585], MSE = 416.77\n",
      "Iteration #70: W_new = [18.35601294  8.65530964], MSE = 383.06\n",
      "Iteration #80: W_new = [19.47073522  8.45317196], MSE = 355.08\n",
      "Iteration #90: W_new = [20.44350656  8.27677488], MSE = 331.65\n"
     ]
    }
   ],
   "source": [
    "n = X.shape[1]\n",
    "alpha = 1e-2\n",
    "W = np.array([1, 0.5])\n",
    "print(f'Number of objects = {n} \\\n",
    "       \\nLearning rate = {alpha} \\\n",
    "       \\nInitial weights = {W} \\n')\n",
    "\n",
    "for i in range(100):\n",
    "    y_pred = np.dot(W, X)\n",
    "    err = calc_mse(y, y_pred)\n",
    "    for k in range(W.shape[0]):\n",
    "        W[k] -= alpha * (1/n * 2 * np.sum(X[k] * (y_pred - y)))\n",
    "    if i % 10 == 0:\n",
    "        alpha /= 1.1\n",
    "        print(f'Iteration #{i}: W_new = {W}, MSE = {round(err,2)}')"
   ]
  },
  {
   "cell_type": "markdown",
   "metadata": {
    "id": "5Qu1o4JhZYwI"
   },
   "source": [
    "*2. В этом коде мы избавляемся от итераций по весам, но здесь есть ошибка, исправьте её.\n"
   ]
  },
  {
   "cell_type": "code",
   "execution_count": 49,
   "metadata": {
    "colab": {
     "base_uri": "https://localhost:8080/",
     "height": 185
    },
    "id": "WZZzDCQLY4pA",
    "outputId": "28f58ade-72f2-4381-809d-2417752d56e4"
   },
   "outputs": [
    {
     "name": "stdout",
     "output_type": "stream",
     "text": [
      "Number of objects = 10        \n",
      "Learning rate = 0.01        \n",
      "Initial weights = [1.  0.5] \n",
      "\n",
      "Iteration #0: W_new = [5.85 5.35], MSE = 3047.75\n",
      "Iteration #10: W_new = [11.0965715 10.5965715], MSE = 597.49\n",
      "Iteration #20: W_new = [11.10415569 10.60415569], MSE = 597.49\n",
      "Iteration #30: W_new = [11.10416665 10.60416665], MSE = 597.49\n",
      "Iteration #40: W_new = [11.10416667 10.60416667], MSE = 597.49\n",
      "Iteration #50: W_new = [11.10416667 10.60416667], MSE = 597.49\n",
      "Iteration #60: W_new = [11.10416667 10.60416667], MSE = 597.49\n",
      "Iteration #70: W_new = [11.10416667 10.60416667], MSE = 597.49\n",
      "Iteration #80: W_new = [11.10416667 10.60416667], MSE = 597.49\n",
      "Iteration #90: W_new = [11.10416667 10.60416667], MSE = 597.49\n"
     ]
    }
   ],
   "source": [
    "n = X.shape[1]\n",
    "alpha = 1e-2\n",
    "W = np.array([1, 0.5])\n",
    "print(f'Number of objects = {n} \\\n",
    "       \\nLearning rate = {alpha} \\\n",
    "       \\nInitial weights = {W} \\n')\n",
    "\n",
    "for i in range(100):\n",
    "    y_pred = np.dot(W, X)\n",
    "    err = calc_mse(y, y_pred)\n",
    "#     for k in range(W.shape[0]):\n",
    "#         W[k] -= alpha * (1/n * 2 * np.sum(X[k] * (y_pred - y)))\n",
    "    W -= alpha * (1/n * 2 * np.sum(X * (y_pred - y)))\n",
    "    W_pred = W\n",
    "    if i % 10 == 0:\n",
    "        print(f'Iteration #{i}: W_new = {W}, MSE = {round(err,2)}')"
   ]
  },
  {
   "cell_type": "markdown",
   "metadata": {
    "id": "dNd19yVmBjaR"
   },
   "source": [
    "*3. Вместо того чтобы задавать количество итераций, задайте условие остановки алгоритма, когда ошибка за итерацию начинает изменяться ниже определённого порога — упрощённый аналог параметра tol в линейной регрессии в sklearn."
   ]
  },
  {
   "cell_type": "markdown",
   "metadata": {
    "collapsed": true,
    "id": "VjV39BwKBjaR"
   },
   "source": [
    "## Задача 1. Подберите скорость обучения (alpha) и количество итераций"
   ]
  },
  {
   "cell_type": "code",
   "execution_count": 50,
   "metadata": {},
   "outputs": [],
   "source": [
    "def grad_desc(X, y, alpha=1e-04, verbose=False, tol=0.0):\n",
    "    \n",
    "    n = X.shape[1]\n",
    "    W = np.array([1, 0.5])  # задаём начальное значение весов\n",
    "    min_err = float('inf')  #начальное значение ошибки модели - бесконечность\n",
    "    n_iter = 0  # отслеживаем количество итераций\n",
    "    stop_chek = True  #будем чекать снижение ошибки\n",
    "    while stop_chek:\n",
    "        n_iter += 1\n",
    "        y_pred = W @ X\n",
    "        err = calc_mse(y, y_pred)\n",
    "        if min_err - err > tol:  # контролируем текущее значение ошибки\n",
    "            min_err = err\n",
    "        else:  # если снижение прекратилось, останавливаемся.\n",
    "            print(\n",
    "                f'Stop descent! iteration: {n_iter}, weights: {W}, mse: {min_err}')\n",
    "            stop_chek = False\n",
    "        for ii in range(W.shape[0]):\n",
    "            W[ii] -= alpha * (1 / n * 2 * np.sum(X[ii] * (y_pred - y)))\n",
    "        if verbose:\n",
    "            if n_iter % 100 == 0:\n",
    "                print(n_iter, W, err)\n",
    "    return W, min_err"
   ]
  },
  {
   "cell_type": "code",
   "execution_count": 78,
   "metadata": {},
   "outputs": [
    {
     "name": "stdout",
     "output_type": "stream",
     "text": [
      "100 [28.22929764  6.86494171] 179.89501370640295\n",
      "200 [38.32845066  5.03361602] 65.72191623045093\n",
      "300 [42.36857287  4.30100215] 47.450051024147385\n",
      "400 [43.98480618  4.00792316] 44.525885301240166\n",
      "500 [44.63137328  3.89067818] 44.05791199482176\n",
      "600 [44.89002963  3.84377484] 43.98301917537428\n",
      "700 [44.99350398  3.82501136] 43.97103358917125\n",
      "800 [45.03489844  3.81750512] 43.969115457664245\n",
      "900 [45.05145812  3.81450228] 43.968808486572826\n",
      "1000 [45.05808274  3.813301  ] 43.96875935998757\n",
      "1100 [45.0607329   3.81282044] 43.968751497939834\n",
      "1200 [45.06179308  3.81262819] 43.96875023972508\n",
      "1300 [45.0622172   3.81255128] 43.96875003836477\n",
      "1400 [45.06238687  3.81252052] 43.96875000613976\n",
      "1500 [45.06245474  3.81250821] 43.96875000098258\n",
      "1600 [45.06248189  3.81250328] 43.96875000015726\n",
      "1700 [45.06249276  3.81250131] 43.96875000002515\n",
      "1800 [45.0624971   3.81250053] 43.968750000004036\n",
      "Stop descent! iteration: 1886, weights: [45.06249867  3.81250024], mse: 43.96875000000084\n"
     ]
    },
    {
     "data": {
      "text/plain": [
       "(array([45.06249868,  3.81250024]), 43.96875000000084)"
      ]
     },
     "execution_count": 78,
     "metadata": {},
     "output_type": "execute_result"
    }
   ],
   "source": [
    "W_1, mse_1 = grad_desc(X, y, alpha=0.01, verbose=True)\n",
    "W_1, mse_1"
   ]
  },
  {
   "cell_type": "markdown",
   "metadata": {},
   "source": [
    "При a=0.01 максимально приблизились к минимуму за 1886 итераций."
   ]
  },
  {
   "cell_type": "code",
   "execution_count": 68,
   "metadata": {},
   "outputs": [
    {
     "data": {
      "image/png": "[encoded data removed]",
      "text/plain": [
       "<Figure size 1152x576 with 1 Axes>"
      ]
     },
     "metadata": {
      "needs_background": "light"
     },
     "output_type": "display_data"
    }
   ],
   "source": [
    "plt.figure(figsize=(16, 8))\n",
    "plt.scatter(X[1], y)\n",
    "plt.plot(X[1], y_pred1, label='model1')\n",
    "plt.plot(X[1], 40 * np.ones(10) + X[1] * 7.5, label='model2')\n",
    "plt.plot(X[1], W_0[0] + W_0[1] * X[1], label='analytic_model')\n",
    "plt.plot(X[1], W_1[0] + W_1[1] * X[1], label='gd_model')\n",
    "plt.legend(loc='best')\n",
    "plt.show()"
   ]
  },
  {
   "cell_type": "markdown",
   "metadata": {},
   "source": [
    "### Задача 2. В этом коде мы избавляемся от итераций по весам, но здесь есть ошибка, исправьте её."
   ]
  },
  {
   "cell_type": "code",
   "execution_count": 92,
   "metadata": {},
   "outputs": [
    {
     "name": "stdout",
     "output_type": "stream",
     "text": [
      "Number of objects = 10        \n",
      "Learning rate = 0.01        \n",
      "Initial weights = [1.  0.5] \n",
      "\n",
      "Iteration #0: W_new = [5.85 5.35], MSE = 3047.75\n",
      "Iteration #10: W_new = [11.0965715 10.5965715], MSE = 597.49\n",
      "Iteration #20: W_new = [11.10415569 10.60415569], MSE = 597.49\n",
      "Iteration #30: W_new = [11.10416665 10.60416665], MSE = 597.49\n",
      "Iteration #40: W_new = [11.10416667 10.60416667], MSE = 597.49\n",
      "Iteration #50: W_new = [11.10416667 10.60416667], MSE = 597.49\n",
      "Iteration #60: W_new = [11.10416667 10.60416667], MSE = 597.49\n",
      "Iteration #70: W_new = [11.10416667 10.60416667], MSE = 597.49\n",
      "Iteration #80: W_new = [11.10416667 10.60416667], MSE = 597.49\n",
      "Iteration #90: W_new = [11.10416667 10.60416667], MSE = 597.49\n"
     ]
    }
   ],
   "source": [
    "n = X.shape[1]\n",
    "alpha = 1e-2\n",
    "W = np.array([1, 0.5])\n",
    "print(f'Number of objects = {n} \\\n",
    "       \\nLearning rate = {alpha} \\\n",
    "       \\nInitial weights = {W} \\n')\n",
    "\n",
    "for i in range(100):\n",
    "    y_pred = np.dot(W, X)\n",
    "    err = calc_mse(y, y_pred)\n",
    "#     for k in range(W.shape[0]):\n",
    "#         W[k] -= alpha * (1/n * 2 * np.sum(X[k] * (y_pred - y)))\n",
    "    W -= alpha * (1/n * 2 * np.sum(X * (y_pred - y)))\n",
    "    W_pred = W\n",
    "    if i % 10 == 0:\n",
    "        print(f'Iteration #{i}: W_new = {W}, MSE = {round(err,2)}')"
   ]
  },
  {
   "cell_type": "markdown",
   "metadata": {},
   "source": [
    "Решение:"
   ]
  },
  {
   "cell_type": "markdown",
   "metadata": {},
   "source": [
    "Ошибки были в строке вывода print, где неправильно указана формула для MSE, и неправильные параметры в функции np.sum"
   ]
  },
  {
   "cell_type": "code",
   "execution_count": 86,
   "metadata": {},
   "outputs": [
    {
     "name": "stdout",
     "output_type": "stream",
     "text": [
      "Number of objects = 10        \n",
      "Learning rate = 0.01        \n",
      "Initial weights = [1.  0.5] \n",
      "\n",
      "Iteration #0: W_new = [2.08 4.27], MSE = 3047.75\n",
      "Iteration #10: W_new = [ 7.0011236 10.6169007], MSE = 738.6534565814403\n",
      "Iteration #20: W_new = [10.3486292  10.10603105], MSE = 622.0253200502415\n",
      "Iteration #30: W_new = [13.38789582  9.55618391], MSE = 525.2425289713664\n",
      "Iteration #40: W_new = [16.16088505  9.05336203], MSE = 444.6639230494043\n",
      "Iteration #50: W_new = [18.69110735  8.59454545], MSE = 377.57641516768024\n",
      "Iteration #60: W_new = [20.99981865  8.17589626], MSE = 321.7212205667205\n",
      "Iteration #70: W_new = [23.10641138  7.79389815], MSE = 275.21773784067534\n",
      "Iteration #80: W_new = [25.02858024  7.44534246], MSE = 236.50023052373837\n",
      "Iteration #90: W_new = [26.78247081  7.12730145], MSE = 204.26510994861874\n",
      "Iteration #100: W_new = [28.38281518  6.83710367], MSE = 177.42704441959268\n",
      "Iteration #110: W_new = [29.84305573  6.57231156], MSE = 155.08241692977836\n",
      "Iteration #120: W_new = [31.17545797  6.33070096], MSE = 136.47890107210296\n",
      "Iteration #130: W_new = [32.39121367  6.11024241], MSE = 120.99013078830474\n",
      "Iteration #140: W_new = [33.50053475  5.90908413], MSE = 108.09461110591664\n",
      "Iteration #150: W_new = [34.51273915  5.72553647], MSE = 97.35815980398132\n",
      "Iteration #160: W_new = [35.43632906  5.55805768], MSE = 88.4192888318984\n",
      "Iteration #170: W_new = [36.27906231  5.405241  ], MSE = 80.97703328502635\n",
      "Iteration #180: W_new = [37.0480176   5.26580281], MSE = 74.78081814802216\n",
      "Iteration #190: W_new = [37.74965389  5.13857189], MSE = 69.62202162696256\n",
      "Iteration #200: W_new = [38.38986469  5.02247953], MSE = 65.32695101413637\n",
      "Iteration #210: W_new = [38.97402756  4.9165506 ], MSE = 61.75099458828087\n",
      "Iteration #220: W_new = [39.50704928  4.81989533], MSE = 58.77375264924731\n",
      "Iteration #230: W_new = [39.99340705  4.73170185], MSE = 56.29498375277784\n",
      "Iteration #240: W_new = [40.43718613  4.65122936], MSE = 54.231229658242036\n",
      "Iteration #250: W_new = [40.84211409  4.57780191], MSE = 52.5130053539192\n",
      "Iteration #260: W_new = [41.21159221  4.51080275], MSE = 51.08245955014228\n",
      "Iteration #270: W_new = [41.54872398  4.4496691 ], MSE = 49.89142687090753\n",
      "Iteration #280: W_new = [41.8563412   4.39388747], MSE = 48.89980616274164\n",
      "Iteration #290: W_new = [42.13702774  4.34298929], MSE = 48.07421031973318\n",
      "Iteration #300: W_new = [42.39314129  4.29654705], MSE = 47.386842165377494\n",
      "Iteration #310: W_new = [42.6268331   4.25417064], MSE = 46.81455854304161\n",
      "Iteration #320: W_new = [42.84006612  4.21550412], MSE = 46.33809110369556\n",
      "Iteration #330: W_new = [43.03463143  4.1802227 ], MSE = 45.94139755543294\n",
      "Iteration #340: W_new = [43.21216332  4.14803003], MSE = 45.61112153185167\n",
      "Iteration #350: W_new = [43.37415299  4.1186557 ], MSE = 45.33614289347854\n",
      "Iteration #360: W_new = [43.5219611   4.09185298], MSE = 45.10720332123331\n",
      "Iteration #370: W_new = [43.6568292   4.06739673], MSE = 44.916594595952255\n",
      "Iteration #380: W_new = [43.77989013  4.04508153], MSE = 44.75789906858249\n",
      "Iteration #390: W_new = [43.89217756  4.02471993], MSE = 44.62577358287855\n",
      "Iteration #400: W_new = [43.99463466  4.00614091], MSE = 44.51576957544466\n",
      "Iteration #410: W_new = [44.08812206  3.98918842], MSE = 44.42418329602978\n",
      "Iteration #420: W_new = [44.173425    3.97372004], MSE = 44.34793110510751\n",
      "Iteration #430: W_new = [44.25126001  3.95960587], MSE = 44.28444565010714\n",
      "Iteration #440: W_new = [44.32228086  3.94672733], MSE = 44.23158942462878\n",
      "Iteration #450: W_new = [44.38708413  3.93497626], MSE = 44.18758280024841\n",
      "Iteration #460: W_new = [44.44621412  3.92425394], MSE = 44.150944107798686\n",
      "Iteration #470: W_new = [44.50016751  3.91447033], MSE = 44.120439750708684\n",
      "Iteration #480: W_new = [44.5493975   3.90554323], MSE = 44.095042670756854\n",
      "Iteration #490: W_new = [44.5943176   3.89739766], MSE = 44.07389776781149\n",
      "Iteration #500: W_new = [44.63530512  3.8899652 ], MSE = 44.0562931092674\n",
      "Iteration #510: W_new = [44.67270435  3.88318343], MSE = 44.041635959823175\n",
      "Iteration #520: W_new = [44.70682942  3.87699538], MSE = 44.029432824539825\n",
      "Iteration #530: W_new = [44.73796697  3.87134906], MSE = 44.019272833246156\n",
      "Iteration #540: W_new = [44.76637856  3.86619706], MSE = 44.01081390685627\n",
      "Iteration #550: W_new = [44.79230282  3.86149609], MSE = 44.00377123983016\n",
      "Iteration #560: W_new = [44.81595752  3.85720668], MSE = 43.99790771099039\n",
      "Iteration #570: W_new = [44.83754134  3.85329279], MSE = 43.99302589983455\n",
      "Iteration #580: W_new = [44.85723558  3.84972154], MSE = 43.98896143953898\n",
      "Iteration #590: W_new = [44.87520567  3.84646294], MSE = 43.985577482854275\n",
      "Iteration #600: W_new = [44.89160255  3.84348962], MSE = 43.98276009456375\n",
      "Iteration #610: W_new = [44.90656394  3.8407766 ], MSE = 43.98041441537248\n",
      "Iteration #620: W_new = [44.92021553  3.83830109], MSE = 43.97846146806772\n",
      "Iteration #630: W_new = [44.93267197  3.83604231], MSE = 43.976835498417074\n",
      "Iteration #640: W_new = [44.94403791  3.83398127], MSE = 43.97548176127407\n",
      "Iteration #650: W_new = [44.95440879  3.83210067], MSE = 43.974354677351144\n",
      "Iteration #660: W_new = [44.96387175  3.83038471], MSE = 43.97341629860027\n",
      "Iteration #670: W_new = [44.97250627  3.82881898], MSE = 43.97263503053124\n",
      "Iteration #680: W_new = [44.98038486  3.82739031], MSE = 43.97198456844954\n",
      "Iteration #690: W_new = [44.98757372  3.82608673], MSE = 43.97144301179763\n",
      "Iteration #700: W_new = [44.99413322  3.82489726], MSE = 43.97099212677991\n",
      "Iteration #710: W_new = [45.00011846  3.82381193], MSE = 43.97061673244493\n",
      "Iteration #720: W_new = [45.00557972  3.82282162], MSE = 43.970304189554376\n",
      "Iteration #730: W_new = [45.01056286  3.821918  ], MSE = 43.97004397502975\n",
      "Iteration #740: W_new = [45.01510975  3.82109349], MSE = 43.969827327648275\n",
      "Iteration #750: W_new = [45.01925858  3.82034116], MSE = 43.96964695305943\n",
      "Iteration #760: W_new = [45.0230442  3.8196547], MSE = 43.969496778189615\n",
      "Iteration #770: W_new = [45.0264984   3.81902834], MSE = 43.969371746766605\n",
      "Iteration #780: W_new = [45.0296502   3.81845681], MSE = 43.96926764907861\n",
      "Iteration #790: W_new = [45.03252607  3.81793531], MSE = 43.96918098023661\n",
      "Iteration #800: W_new = [45.03515017  3.81745947], MSE = 43.969108822167414\n",
      "Iteration #810: W_new = [45.03754454  3.81702529], MSE = 43.9690487453644\n",
      "Iteration #820: W_new = [45.03972929  3.81662912], MSE = 43.96899872708782\n",
      "Iteration #830: W_new = [45.04172277  3.81626763], MSE = 43.968957083260825\n",
      "Iteration #840: W_new = [45.04354174  3.81593779], MSE = 43.96892241176782\n",
      "Iteration #850: W_new = [45.04520146  3.81563682], MSE = 43.9688935452463\n",
      "Iteration #860: W_new = [45.04671588  3.81536221], MSE = 43.96886951178273\n",
      "Iteration #870: W_new = [45.04809772  3.81511163], MSE = 43.96884950218889\n",
      "Iteration #880: W_new = [45.04935858  3.81488299], MSE = 43.96883284275717\n",
      "Iteration #890: W_new = [45.05050906  3.81467437], MSE = 43.96881897257729\n",
      "Iteration #900: W_new = [45.05155882  3.81448401], MSE = 43.968807424651004\n",
      "Iteration #910: W_new = [45.05251668  3.81431032], MSE = 43.9687978101685\n",
      "Iteration #920: W_new = [45.05339068  3.81415184], MSE = 43.968789805417586\n",
      "Iteration #930: W_new = [45.05418816  3.81400722], MSE = 43.968783140884426\n",
      "Iteration #940: W_new = [45.05491583  3.81387527], MSE = 43.96877759217934\n",
      "Iteration #950: W_new = [45.05557979  3.81375487], MSE = 43.96877297248169\n",
      "Iteration #960: W_new = [45.05618563  3.81364501], MSE = 43.968769126249825\n",
      "Iteration #970: W_new = [45.05673843  3.81354477], MSE = 43.968765923984044\n",
      "Iteration #980: W_new = [45.05724283  3.81345331], MSE = 43.968763257866584\n",
      "Iteration #990: W_new = [45.05770308  3.81336985], MSE = 43.968761038131255\n",
      "Iteration #1000: W_new = [45.05812303  3.8132937 ], MSE = 43.96875919004132\n",
      "Iteration #1010: W_new = [45.05850621  3.81322421], MSE = 43.96875765137299\n",
      "Iteration #1020: W_new = [45.05885585  3.81316081], MSE = 43.96875637032051\n",
      "Iteration #1030: W_new = [45.05917489  3.81310296], MSE = 43.968755303751806\n",
      "Iteration #1040: W_new = [45.05946599  3.81305017], MSE = 43.968754415756365\n",
      "Iteration #1050: W_new = [45.0597316   3.81300201], MSE = 43.96875367643602\n",
      "Iteration #1060: W_new = [45.05997396  3.81295806], MSE = 43.96875306089847\n",
      "Iteration #1070: W_new = [45.06019511  3.81291796], MSE = 43.96875254841899\n",
      "Iteration #1080: W_new = [45.06039689  3.81288137], MSE = 43.96875212174283\n",
      "Iteration #1090: W_new = [45.06058101  3.81284798], MSE = 43.96875176650413\n",
      "Iteration #1100: W_new = [45.06074901  3.81281751], MSE = 43.968751470742234\n",
      "Iteration #1110: W_new = [45.0609023   3.81278972], MSE = 43.96875122449911\n",
      "Iteration #1120: W_new = [45.06104218  3.81276435], MSE = 43.968751019483925\n",
      "Iteration #1130: W_new = [45.0611698   3.81274121], MSE = 43.96875084879399\n",
      "Iteration #1140: W_new = [45.06128626  3.81272009], MSE = 43.968750706682286\n",
      "Iteration #1150: W_new = [45.06139251  3.81270083], MSE = 43.96875058836403\n",
      "Iteration #1160: W_new = [45.06148947  3.81268324], MSE = 43.96875048985554\n",
      "Iteration #1170: W_new = [45.06157794  3.8126672 ], MSE = 43.9687504078401\n",
      "Iteration #1180: W_new = [45.06165866  3.81265256], MSE = 43.96875033955634\n",
      "Iteration #1190: W_new = [45.06173232  3.81263921], MSE = 43.96875028270516\n",
      "Iteration #1200: W_new = [45.06179952  3.81262702], MSE = 43.96875023537246\n",
      "Iteration #1210: W_new = [45.06186085  3.8126159 ], MSE = 43.968750195964574\n",
      "Iteration #1220: W_new = [45.0619168   3.81260575], MSE = 43.96875016315467\n",
      "Iteration #1230: W_new = [45.06196786  3.8125965 ], MSE = 43.96875013583804\n",
      "Iteration #1240: W_new = [45.06201445  3.81258805], MSE = 43.96875011309498\n",
      "Iteration #1250: W_new = [45.06205696  3.81258034], MSE = 43.968750094159745\n",
      "Iteration #1260: W_new = [45.06209574  3.81257331], MSE = 43.96875007839477\n",
      "Iteration #1270: W_new = [45.06213113  3.81256689], MSE = 43.968750065269305\n",
      "Iteration #1280: W_new = [45.06216343  3.81256103], MSE = 43.96875005434143\n",
      "Iteration #1290: W_new = [45.06219289  3.81255569], MSE = 43.96875004524314\n",
      "Iteration #1300: W_new = [45.06221978  3.81255081], MSE = 43.96875003766819\n",
      "Iteration #1310: W_new = [45.06224431  3.81254637], MSE = 43.96875003136147\n",
      "Iteration #1320: W_new = [45.06226669  3.81254231], MSE = 43.9687500261107\n",
      "Iteration #1330: W_new = [45.06228712  3.8125386 ], MSE = 43.96875002173904\n",
      "Iteration #1340: W_new = [45.06230576  3.81253522], MSE = 43.96875001809933\n",
      "Iteration #1350: W_new = [45.06232276  3.81253214], MSE = 43.968750015069006\n",
      "Iteration #1360: W_new = [45.06233828  3.81252933], MSE = 43.96875001254604\n",
      "Iteration #1370: W_new = [45.06235244  3.81252676], MSE = 43.968750010445476\n",
      "Iteration #1380: W_new = [45.06236536  3.81252442], MSE = 43.96875000869661\n",
      "Iteration #1390: W_new = [45.06237714  3.81252228], MSE = 43.96875000724056\n",
      "Iteration #1400: W_new = [45.0623879   3.81252033], MSE = 43.96875000602829\n",
      "Iteration #1410: W_new = [45.06239771  3.81251855], MSE = 43.96875000501898\n",
      "Iteration #1420: W_new = [45.06240667  3.81251692], MSE = 43.96875000417866\n",
      "Iteration #1430: W_new = [45.06241484  3.81251544], MSE = 43.96875000347906\n",
      "Iteration #1440: W_new = [45.06242229  3.81251409], MSE = 43.968750002896535\n",
      "Iteration #1450: W_new = [45.0624291   3.81251286], MSE = 43.96875000241159\n",
      "Iteration #1460: W_new = [45.0624353   3.81251173], MSE = 43.96875000200782\n",
      "Iteration #1470: W_new = [45.06244097  3.8125107 ], MSE = 43.96875000167165\n",
      "Iteration #1480: W_new = [45.06244614  3.81250977], MSE = 43.96875000139177\n",
      "Iteration #1490: W_new = [45.06245085  3.81250891], MSE = 43.96875000115875\n",
      "Iteration #1500: W_new = [45.06245515  3.81250813], MSE = 43.96875000096474\n",
      "Iteration #1510: W_new = [45.06245908  3.81250742], MSE = 43.96875000080322\n",
      "Iteration #1520: W_new = [45.06246266  3.81250677], MSE = 43.968750000668734\n",
      "Iteration #1530: W_new = [45.06246593  3.81250618], MSE = 43.96875000055677\n",
      "Iteration #1540: W_new = [45.06246891  3.81250564], MSE = 43.96875000046356\n",
      "Iteration #1550: W_new = [45.06247164  3.81250514], MSE = 43.96875000038595\n",
      "Iteration #1560: W_new = [45.06247412  3.81250469], MSE = 43.96875000032132\n",
      "Iteration #1570: W_new = [45.06247638  3.81250428], MSE = 43.96875000026753\n",
      "Iteration #1580: W_new = [45.06247845  3.81250391], MSE = 43.968750000222734\n",
      "Iteration #1590: W_new = [45.06248034  3.81250357], MSE = 43.96875000018544\n",
      "Iteration #1600: W_new = [45.06248206  3.81250325], MSE = 43.9687500001544\n",
      "Iteration #1610: W_new = [45.06248363  3.81250297], MSE = 43.96875000012855\n",
      "Iteration #1620: W_new = [45.06248506  3.81250271], MSE = 43.96875000010702\n",
      "Iteration #1630: W_new = [45.06248637  3.81250247], MSE = 43.9687500000891\n",
      "Iteration #1640: W_new = [45.06248756  3.81250226], MSE = 43.968750000074195\n",
      "Iteration #1650: W_new = [45.06248865  3.81250206], MSE = 43.96875000006177\n",
      "Iteration #1660: W_new = [45.06248965  3.81250188], MSE = 43.96875000005142\n",
      "Iteration #1670: W_new = [45.06249055  3.81250171], MSE = 43.9687500000428\n",
      "Iteration #1680: W_new = [45.06249138  3.81250156], MSE = 43.96875000003564\n",
      "Iteration #1690: W_new = [45.06249213  3.81250143], MSE = 43.96875000002968\n",
      "Iteration #1700: W_new = [45.06249282  3.8125013 ], MSE = 43.96875000002471\n",
      "Iteration #1710: W_new = [45.06249345  3.81250119], MSE = 43.968750000020584\n",
      "Iteration #1720: W_new = [45.06249402  3.81250108], MSE = 43.96875000001713\n",
      "Iteration #1730: W_new = [45.06249455  3.81250099], MSE = 43.96875000001425\n",
      "Iteration #1740: W_new = [45.06249503  3.8125009 ], MSE = 43.96875000001187\n",
      "Iteration #1750: W_new = [45.06249546  3.81250082], MSE = 43.96875000000989\n",
      "Iteration #1760: W_new = [45.06249586  3.81250075], MSE = 43.96875000000824\n",
      "Iteration #1770: W_new = [45.06249622  3.81250069], MSE = 43.96875000000685\n",
      "Iteration #1780: W_new = [45.06249655  3.81250063], MSE = 43.96875000000571\n",
      "Iteration #1790: W_new = [45.06249685  3.81250057], MSE = 43.968750000004746\n",
      "Iteration #1800: W_new = [45.06249713  3.81250052], MSE = 43.96875000000395\n",
      "Iteration #1810: W_new = [45.06249738  3.81250048], MSE = 43.9687500000033\n",
      "Iteration #1820: W_new = [45.06249761  3.81250043], MSE = 43.96875000000274\n",
      "Iteration #1830: W_new = [45.06249782  3.8125004 ], MSE = 43.968750000002295\n",
      "Iteration #1840: W_new = [45.06249801  3.81250036], MSE = 43.96875000000189\n",
      "Iteration #1850: W_new = [45.06249818  3.81250033], MSE = 43.96875000000159\n",
      "Iteration #1860: W_new = [45.06249834  3.8125003 ], MSE = 43.96875000000132\n",
      "Iteration #1870: W_new = [45.06249849  3.81250027], MSE = 43.9687500000011\n",
      "Iteration #1880: W_new = [45.06249862  3.81250025], MSE = 43.96875000000092\n"
     ]
    }
   ],
   "source": [
    "n = X.shape[1]\n",
    "alpha = 0.01 # подобранные значения alpha и оптимальное количество итераций\n",
    "W = np.array([1, 0.5])\n",
    "print(f'Number of objects = {n} \\\n",
    "       \\nLearning rate = {alpha} \\\n",
    "       \\nInitial weights = {W} \\n')\n",
    "\n",
    "for i in range(1886):\n",
    "    y_pred = np.dot(W, X)\n",
    "    err = calc_mse(y, y_pred)\n",
    "#     for k in range(W.shape[0]):\n",
    "#         W[k] -= alpha * (1/n * 2 * np.sum(X[k] * (y_pred - y)))\n",
    "    W -= alpha * (1/n * 2 * np.sum(X * (y_pred - y), axis=1)) # добавили axis=1,сумма элементов в строках\n",
    "    if i % 10 == 0:\n",
    "        print(f'Iteration #{i}: W_new = {W}, MSE = {err}')"
   ]
  }
 ],
 "metadata": {
  "colab": {
   "collapsed_sections": [],
   "name": "Lesson_1_script.ipynb",
   "provenance": []
  },
  "kernelspec": {
   "display_name": "Python 3",
   "language": "python",
   "name": "python3"
  },
  "language_info": {
   "codemirror_mode": {
    "name": "ipython",
    "version": 3
   },
   "file_extension": ".py",
   "mimetype": "text/x-python",
   "name": "python",
   "nbconvert_exporter": "python",
   "pygments_lexer": "ipython3",
   "version": "3.7.6"
  }
 },
 "nbformat": 4,
 "nbformat_minor": 1
}
