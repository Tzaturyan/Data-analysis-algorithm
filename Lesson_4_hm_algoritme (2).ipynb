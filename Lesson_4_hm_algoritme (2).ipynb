{
 "cells": [
  {
   "cell_type": "markdown",
   "metadata": {},
   "source": [
    "## Домашние задания"
   ]
  },
  {
   "cell_type": "markdown",
   "metadata": {
    "pycharm": {
     "name": "#%% md\n"
    }
   },
   "source": [
    "### Задача 1. В коде из методички реализуйте один или несколько критериев останова (количество листьев, глубина дерева и т.д.)"
   ]
  },
  {
   "cell_type": "markdown",
   "metadata": {},
   "source": [
    "В этом блокноте реализованы следующие критерии останова: \n",
    "\n",
    "* минимальное количество объектов в листе - `min_samples_leaf`, \n",
    "* максимальная глубина дерева - `max_depth`,\n",
    "* максимальное число листьев - `max_leaves`."
   ]
  },
  {
   "cell_type": "code",
   "execution_count": 37,
   "metadata": {},
   "outputs": [],
   "source": [
    "import matplotlib.pyplot as plt\n",
    "import random\n",
    "\n",
    "from matplotlib.colors import ListedColormap\n",
    "from sklearn import datasets\n",
    "\n",
    "import numpy as np"
   ]
  },
  {
   "cell_type": "code",
   "execution_count": 38,
   "metadata": {},
   "outputs": [],
   "source": [
    "classification_data, classification_labels = datasets.make_classification(n_samples=1000, \n",
    "                                                      n_features=2, n_informative=2, \n",
    "                                                      n_classes=2, n_redundant=0, \n",
    "                                                      n_clusters_per_class=1, \n",
    "                                                      random_state=5\n",
    "                                                                         )"
   ]
  },
  {
   "cell_type": "code",
   "execution_count": 39,
   "metadata": {},
   "outputs": [
    {
     "data": {
      "image/png": "[encoded data removed]",
      "text/plain": [
       "<Figure size 432x432 with 1 Axes>"
      ]
     },
     "metadata": {
      "needs_background": "light"
     },
     "output_type": "display_data"
    }
   ],
   "source": [
    "colors = ListedColormap(['red', 'blue'])\n",
    "light_colors = ListedColormap(['lightcoral', 'lightblue'])\n",
    "\n",
    "plt.figure(figsize=(6,6))\n",
    "plt.scatter(list(map(lambda x: x[0], classification_data)), list(map(lambda x: x[1], classification_data)), \n",
    "              c=classification_labels, cmap=colors);"
   ]
  },
  {
   "cell_type": "code",
   "execution_count": 40,
   "metadata": {},
   "outputs": [
    {
     "data": {
      "text/plain": [
       "(700, 2)"
      ]
     },
     "execution_count": 40,
     "metadata": {},
     "output_type": "execute_result"
    }
   ],
   "source": [
    "# Разобьем выборку на обучающую и тестовую\n",
    "\n",
    "from sklearn.model_selection import train_test_split\n",
    "\n",
    "train_data, test_data, train_labels, test_labels = train_test_split(classification_data, \n",
    "                                                                    classification_labels, \n",
    "                                                                    test_size=0.3,\n",
    "                                                                    random_state=1)\n",
    "train_data.shape"
   ]
  },
  {
   "cell_type": "code",
   "execution_count": 41,
   "metadata": {},
   "outputs": [],
   "source": [
    "# Реализуем класс узла\n",
    "class Node:\n",
    "    \n",
    "    def __init__(self, index, t, true_branch, false_branch):\n",
    "        self.index = index  # индекс признака, по которому ведется сравнение с порогом в этом узле\n",
    "        self.t = t  # значение порога\n",
    "        self.true_branch = true_branch  # поддерево, удовлетворяющее условию в узле\n",
    "        self.false_branch = false_branch  # поддерево, не удовлетворяющее условию в узле"
   ]
  },
  {
   "cell_type": "code",
   "execution_count": 42,
   "metadata": {},
   "outputs": [],
   "source": [
    "# И класс терминального узла (листа)\n",
    "class Leaf:\n",
    "    \n",
    "    def __init__(self, data, labels):\n",
    "        self.data = data\n",
    "        self.labels = labels\n",
    "        self.prediction = self.predict()\n",
    "        \n",
    "    def predict(self):\n",
    "        # подсчет количества объектов разных классов\n",
    "        classes = {}  # сформируем словарь \"класс: количество объектов\"\n",
    "        for label in self.labels:\n",
    "            if label not in classes:\n",
    "                classes[label] = 0\n",
    "            classes[label] += 1\n",
    "        #  найдем класс, количество объектов которого будет максимальным в этом листе и вернем его    \n",
    "        # prediction = max(classes, key=classes.get)\n",
    "        # найдем вероятность встретить класс 1 в листе\n",
    "        try:\n",
    "            prediction = classes[1] / (sum(classes.values()))\n",
    "        except:\n",
    "            prediction = 0\n",
    "        return prediction "
   ]
  },
  {
   "cell_type": "code",
   "execution_count": 43,
   "metadata": {},
   "outputs": [],
   "source": [
    "# Расчет энтропии Шеннона\n",
    "def entropy(labels):\n",
    "    #  подсчет количества объектов разных классов\n",
    "    classes = {}\n",
    "    for label in labels:\n",
    "        if label not in classes:\n",
    "            classes[label] = 0\n",
    "        classes[label] += 1\n",
    "    \n",
    "    #  расчет критерия\n",
    "    entropy_ = 0\n",
    "    for label in classes:\n",
    "        p = classes[label] / len(labels)\n",
    "        if p != 0:\n",
    "            entropy_ -= p * np.log2(p)\n",
    "    \n",
    "    return entropy_"
   ]
  },
  {
   "cell_type": "code",
   "execution_count": 44,
   "metadata": {},
   "outputs": [],
   "source": [
    "# Расчет критерия Джини\n",
    "def gini(labels):\n",
    "    #  подсчет количества объектов разных классов\n",
    "    classes = {}\n",
    "    for label in labels:\n",
    "        if label not in classes:\n",
    "            classes[label] = 0\n",
    "        classes[label] += 1\n",
    "    \n",
    "    #  расчет критерия\n",
    "    impurity = 1\n",
    "    for label in classes:\n",
    "        p = classes[label] / len(labels)\n",
    "        impurity -= p ** 2\n",
    "        \n",
    "    return impurity"
   ]
  },
  {
   "cell_type": "code",
   "execution_count": 45,
   "metadata": {},
   "outputs": [],
   "source": [
    "# Расчет качества\n",
    "def quality(left_labels, right_labels, current_criterion, criterion):\n",
    "\n",
    "    # доля выбоки, ушедшая в левое поддерево\n",
    "    p = float(left_labels.shape[0]) / (left_labels.shape[0] + right_labels.shape[0])\n",
    "\n",
    "    if criterion == 'entropy':\n",
    "        return current_criterion - p * entropy(left_labels) - (1 - p) * entropy(right_labels)\n",
    "\n",
    "    return current_criterion - p * gini(left_labels) - (1 - p) * gini(right_labels)"
   ]
  },
  {
   "cell_type": "code",
   "execution_count": 46,
   "metadata": {},
   "outputs": [],
   "source": [
    "# Разбиение датасета в узле\n",
    "def split(data, labels, index, t):\n",
    "    \n",
    "    left = np.where(data[:, index] <= t)\n",
    "    right = np.where(data[:, index] > t)\n",
    "        \n",
    "    true_data = data[left]\n",
    "    false_data = data[right]\n",
    "    true_labels = labels[left]\n",
    "    false_labels = labels[right]\n",
    "        \n",
    "    return true_data, false_data, true_labels, false_labels"
   ]
  },
  {
   "cell_type": "code",
   "execution_count": 47,
   "metadata": {},
   "outputs": [],
   "source": [
    "# Нахождение наилучшего разбиения\n",
    "def find_best_split(data, labels, min_samples_leaf, criterion):\n",
    "    # min_samples_leaf - минимальное количество объектов в листе\n",
    "    \n",
    "    current_gini = gini(labels)\n",
    "    current_entropy = entropy(labels)\n",
    "\n",
    "    best_quality = 0\n",
    "    best_t = None\n",
    "    best_index = None\n",
    "    \n",
    "    n_features = data.shape[1]\n",
    "    \n",
    "    for index in range(n_features):\n",
    "        # будем проверять только уникальные значения признака, исключая повторения\n",
    "        t_values = np.unique([row[index] for row in data])\n",
    "        \n",
    "        for t in t_values:\n",
    "            true_data, false_data, true_labels, false_labels = split(data, labels, index, t)\n",
    "            #  пропускаем разбиения, в которых в узле остается менее min_samples_leaf объектов\n",
    "            if len(true_data) < min_samples_leaf or len(false_data) < min_samples_leaf:\n",
    "                continue\n",
    "\n",
    "            if criterion == 'entropy':\n",
    "                current_quality = quality(true_labels, false_labels, current_entropy, criterion)\n",
    "            else:\n",
    "                current_quality = quality(true_labels, false_labels, current_gini, criterion)\n",
    "\n",
    "            #  выбираем порог, на котором получается максимальный прирост качества\n",
    "            if current_quality > best_quality:\n",
    "                best_quality, best_t, best_index = current_quality, t, index\n",
    "\n",
    "    return best_quality, best_t, best_index"
   ]
  },
  {
   "cell_type": "code",
   "execution_count": 48,
   "metadata": {},
   "outputs": [],
   "source": [
    "# Построение дерева с помощью рекурсивной функции\n",
    "def build_tree(data, labels, min_samples_leaf=1, \n",
    "               max_depth=None, depth=0, \n",
    "               max_leaves=None, criterion='gini'):\n",
    "    \n",
    "    quality, t, index = find_best_split(data, labels, min_samples_leaf, criterion)\n",
    "    \n",
    "    global counter_leaf # счетчик листьев\n",
    "    global counter_node # счетчик узлов\n",
    "     \n",
    "    #  Базовый случай - прекращаем рекурсию, когда нет прироста в качества\n",
    "    if quality == 0:\n",
    "        counter_leaf += 1\n",
    "        print('== stop: quality' + '\\t- ' + str(counter_leaf) + ' leaf')\n",
    "        return Leaf(data, labels)\n",
    "    #  Прекращаем рекурсию, когда достигли заданной глубины дерева\n",
    "    if (max_depth) and (depth >= max_depth):\n",
    "        counter_leaf += 1\n",
    "        print('== stop: max_depth' + '\\t- ' + str(counter_leaf) + ' leaf')\n",
    "        return Leaf(data, labels)\n",
    "    #  Прекращаем рекурсию, когда достигли заданного количества узлов\n",
    "    if (max_leaves) and (counter_node >= max_leaves - 1):\n",
    "        counter_leaf += 1\n",
    "        print('== stop: max_leaves' + '\\t- ' + str(counter_leaf) + ' leaf')\n",
    "        return Leaf(data, labels)\n",
    "            \n",
    "     # Вывод для проверки\n",
    "    if depth == 0: print('level', depth, ': ', len(data))\n",
    "    print('-------split-------')\n",
    "    true_data, false_data, true_labels, false_labels = split(data, labels, index, t)\n",
    "       \n",
    "    depth += 1 # текущий уровень дерева\n",
    "    print('level', depth, ': ', len(true_data), ' + ', len(false_data))\n",
    "    counter_node += 1\n",
    "        \n",
    "    # Рекурсивно строим два поддерева\n",
    "    true_branch = build_tree(true_data, true_labels, \n",
    "                             min_samples_leaf, max_depth, depth, max_leaves, criterion)\n",
    "    false_branch = build_tree(false_data, false_labels, \n",
    "                             min_samples_leaf, max_depth, depth, max_leaves, criterion)\n",
    "            \n",
    "    # Возвращаем класс узла со всеми поддеревьями, то есть целого дерева\n",
    "    return Node(index, t, true_branch, false_branch)"
   ]
  },
  {
   "cell_type": "code",
   "execution_count": 50,
   "metadata": {},
   "outputs": [],
   "source": [
    "def classify_object(obj, node):\n",
    "\n",
    "    #  Останавливаем рекурсию, если достигли листа\n",
    "    if isinstance(node, Leaf):\n",
    "        answer = node.prediction\n",
    "        return answer\n",
    "\n",
    "    if obj[node.index] <= node.t:\n",
    "        return classify_object(obj, node.true_branch)\n",
    "    else:\n",
    "        return classify_object(obj, node.false_branch)"
   ]
  },
  {
   "cell_type": "code",
   "execution_count": 51,
   "metadata": {},
   "outputs": [],
   "source": [
    "def predict(data, tree):\n",
    "    \n",
    "    classes = []\n",
    "    for obj in data:\n",
    "        prediction = classify_object(obj, tree)\n",
    "        classes.append(prediction)\n",
    "    return classes"
   ]
  },
  {
   "cell_type": "code",
   "execution_count": 52,
   "metadata": {},
   "outputs": [],
   "source": [
    "# Введем функцию подсчета точности как доли правильных ответов\n",
    "def accuracy_metric(actual, predicted, threshold=0.5):\n",
    "    # для вероятностей\n",
    "    predicted = np.array(predicted)\n",
    "    predicted = np.squeeze(np.where([predicted > threshold], 1, 0))\n",
    "    \n",
    "    correct = 0\n",
    "    for i in range(len(actual)):\n",
    "        if actual[i] == predicted[i]:\n",
    "            correct += 1\n",
    "    return correct / float(len(actual)) * 100.0"
   ]
  },
  {
   "cell_type": "code",
   "execution_count": 53,
   "metadata": {},
   "outputs": [],
   "source": [
    "# Напечатаем ход нашего дерева\n",
    "def print_tree(node, spacing=\"\"):\n",
    "\n",
    "    # Если лист, то выводим его прогноз\n",
    "    if isinstance(node, Leaf):\n",
    "        print(spacing + \"Прогноз:\", node.prediction)\n",
    "        return\n",
    "    \n",
    "    print('========tree========')\n",
    "    # Выведем значение индекса и порога на этом узле\n",
    "    print(spacing + 'Индекс', str(node.index))\n",
    "    print(spacing + 'Порог', str(node.t))\n",
    "\n",
    "    # Рекурсионный вызов функции на положительном поддереве\n",
    "    print (spacing + '--> True:')\n",
    "    print_tree(node.true_branch, spacing + \"  \")\n",
    "\n",
    "    # Рекурсионный вызов функции на положительном поддереве\n",
    "    print (spacing + '--> False:')\n",
    "    print_tree(node.false_branch, spacing + \"  \")"
   ]
  },
  {
   "cell_type": "code",
   "execution_count": 54,
   "metadata": {},
   "outputs": [
    {
     "name": "stdout",
     "output_type": "stream",
     "text": [
      "level 0 :  700\n",
      "-------split-------\n",
      "level 1 :  334  +  366\n",
      "-------split-------\n",
      "level 2 :  123  +  211\n",
      "-------split-------\n",
      "level 3 :  62  +  61\n",
      "-------split-------\n",
      "level 4 :  10  +  52\n",
      "== stop: quality\t- 1 leaf\n",
      "== stop: quality\t- 2 leaf\n",
      "== stop: max_leaves\t- 3 leaf\n",
      "== stop: quality\t- 4 leaf\n",
      "== stop: max_leaves\t- 5 leaf\n",
      "===========================\n",
      "Количество листьев -  5\n",
      "Количество узлов -  4\n",
      "===========================\n",
      "Точность на обучающей выборке: 89.86\n",
      "Точность на тестовой выборке: 86.00\n"
     ]
    }
   ],
   "source": [
    "# Построим дерево по обучающей выборке\n",
    "counter_leaf = 0 # счетчик листьев\n",
    "counter_node = 0 # счетчик узлов\n",
    "\n",
    "my_tree = build_tree(train_data, train_labels, min_samples_leaf=10, max_depth=10, max_leaves=5)\n",
    "print('=' * 27)\n",
    "print('Количество листьев - ', counter_leaf)\n",
    "print('Количество узлов - ', counter_node)\n",
    "print('=' * 27)\n",
    "\n",
    "#print_tree(my_tree)\n",
    "# Получим ответы для обучающей выборки \n",
    "train_answers = predict(train_data, my_tree)\n",
    "# И получим ответы для тестовой выборки\n",
    "test_answers = predict(test_data, my_tree)\n",
    "# Точность на обучающей выборке\n",
    "train_accuracy = accuracy_metric(train_labels, train_answers)\n",
    "print(f'Точность на обучающей выборке: {train_accuracy:.2f}')\n",
    "# Точность на тестовой выборке\n",
    "test_accuracy = accuracy_metric(test_labels, test_answers)\n",
    "print(f'Точность на тестовой выборке: {test_accuracy:.2f}')"
   ]
  },
  {
   "cell_type": "code",
   "execution_count": 55,
   "metadata": {},
   "outputs": [
    {
     "data": {
      "image/png": "[encoded data removed]",
      "text/plain": [
       "<Figure size 1152x504 with 2 Axes>"
      ]
     },
     "metadata": {
      "needs_background": "light"
     },
     "output_type": "display_data"
    }
   ],
   "source": [
    "# Визуализируем дерево на графике\n",
    "\n",
    "def get_meshgrid(data, step=.05, border=1.2):\n",
    "    x_min, x_max = data[:, 0].min() - border, data[:, 0].max() + border\n",
    "    y_min, y_max = data[:, 1].min() - border, data[:, 1].max() + border\n",
    "    return np.meshgrid(np.arange(x_min, x_max, step), np.arange(y_min, y_max, step))\n",
    "\n",
    "plt.figure(figsize = (16, 7))\n",
    "\n",
    "# график обучающей выборки\n",
    "plt.subplot(1,2,1)\n",
    "xx, yy = get_meshgrid(train_data)\n",
    "mesh_predictions = np.array(predict(np.c_[xx.ravel(), yy.ravel()], my_tree)).reshape(xx.shape)\n",
    "plt.pcolormesh(xx, yy, mesh_predictions, cmap = light_colors)\n",
    "plt.scatter(train_data[:, 0], train_data[:, 1], c = train_labels, cmap = colors)\n",
    "plt.title(f'Train accuracy={train_accuracy:.2f}')\n",
    "\n",
    "# график тестовой выборки\n",
    "plt.subplot(1,2,2)\n",
    "plt.pcolormesh(xx, yy, mesh_predictions, cmap = light_colors)\n",
    "plt.scatter(test_data[:, 0], test_data[:, 1], c = test_labels, cmap = colors)\n",
    "plt.title(f'Test accuracy={test_accuracy:.2f}');"
   ]
  },
  {
   "cell_type": "markdown",
   "metadata": {},
   "source": [
    "### Задача 2. Для задачи классификации обучите дерево решений с использованием критериев разбиения Джини и Энтропия. Сравните качество классификации, сделайте выводы."
   ]
  },
  {
   "cell_type": "markdown",
   "metadata": {},
   "source": [
    "Построим два дерева решений и сравним их точность."
   ]
  },
  {
   "cell_type": "code",
   "execution_count": 19,
   "metadata": {},
   "outputs": [
    {
     "name": "stdout",
     "output_type": "stream",
     "text": [
      "TREE with Gini criterion\n",
      "level 0 :  700\n",
      "-------split-------\n",
      "level 1 :  334  +  366\n",
      "-------split-------\n",
      "level 2 :  123  +  211\n",
      "-------split-------\n",
      "level 3 :  62  +  61\n",
      "-------split-------\n",
      "level 4 :  1  +  61\n",
      "== stop: quality\t- 1 leaf\n",
      "-------split-------\n",
      "level 5 :  8  +  53\n",
      "-------split-------\n",
      "level 6 :  7  +  1\n",
      "-------split-------\n",
      "level 7 :  2  +  5\n",
      "-------split-------\n",
      "level 8 :  1  +  1\n",
      "== stop: quality\t- 2 leaf\n",
      "== stop: quality\t- 3 leaf\n",
      "== stop: quality\t- 4 leaf\n",
      "== stop: quality\t- 5 leaf\n",
      "== stop: quality\t- 6 leaf\n",
      "-------split-------\n",
      "level 4 :  13  +  48\n",
      "== stop: quality\t- 7 leaf\n",
      "-------split-------\n",
      "level 5 :  21  +  27\n",
      "-------split-------\n",
      "level 6 :  13  +  8\n",
      "-------split-------\n",
      "level 7 :  8  +  5\n",
      "-------split-------\n",
      "level 8 :  4  +  4\n",
      "== stop: quality\t- 8 leaf\n",
      "-------split-------\n",
      "level 9 :  2  +  2\n",
      "-------split-------\n",
      "level 10 :  1  +  1\n",
      "== stop: quality\t- 9 leaf\n",
      "== stop: quality\t- 10 leaf\n",
      "== stop: quality\t- 11 leaf\n",
      "== stop: quality\t- 12 leaf\n",
      "== stop: quality\t- 13 leaf\n",
      "-------split-------\n",
      "level 6 :  3  +  24\n",
      "-------split-------\n",
      "level 7 :  1  +  2\n",
      "== stop: quality\t- 14 leaf\n",
      "== stop: quality\t- 15 leaf\n",
      "-------split-------\n",
      "level 7 :  22  +  2\n",
      "-------split-------\n",
      "level 8 :  20  +  2\n",
      "== stop: quality\t- 16 leaf\n",
      "-------split-------\n",
      "level 9 :  1  +  1\n",
      "== stop: quality\t- 17 leaf\n",
      "== stop: quality\t- 18 leaf\n",
      "-------split-------\n",
      "level 8 :  1  +  1\n",
      "== stop: quality\t- 19 leaf\n",
      "== stop: quality\t- 20 leaf\n",
      "== stop: quality\t- 21 leaf\n",
      "-------split-------\n",
      "level 2 :  37  +  329\n",
      "== stop: quality\t- 22 leaf\n",
      "-------split-------\n",
      "level 3 :  10  +  319\n",
      "-------split-------\n",
      "level 4 :  9  +  1\n",
      "== stop: quality\t- 23 leaf\n",
      "== stop: quality\t- 24 leaf\n",
      "-------split-------\n",
      "level 4 :  174  +  145\n",
      "-------split-------\n",
      "level 5 :  173  +  1\n",
      "-------split-------\n",
      "level 6 :  61  +  112\n",
      "-------split-------\n",
      "level 7 :  60  +  1\n",
      "== stop: quality\t- 25 leaf\n",
      "== stop: quality\t- 26 leaf\n",
      "== stop: quality\t- 27 leaf\n",
      "== stop: quality\t- 28 leaf\n",
      "== stop: quality\t- 29 leaf\n",
      "\n",
      "TREE with Entropy criterion\n",
      "level 0 :  700\n",
      "-------split-------\n",
      "level 1 :  334  +  366\n",
      "-------split-------\n",
      "level 2 :  123  +  211\n",
      "-------split-------\n",
      "level 3 :  62  +  61\n",
      "-------split-------\n",
      "level 4 :  9  +  53\n",
      "-------split-------\n",
      "level 5 :  1  +  8\n",
      "== stop: quality\t- 1 leaf\n",
      "-------split-------\n",
      "level 6 :  7  +  1\n",
      "-------split-------\n",
      "level 7 :  2  +  5\n",
      "-------split-------\n",
      "level 8 :  1  +  1\n",
      "== stop: quality\t- 2 leaf\n",
      "== stop: quality\t- 3 leaf\n",
      "== stop: quality\t- 4 leaf\n",
      "== stop: quality\t- 5 leaf\n",
      "== stop: quality\t- 6 leaf\n",
      "-------split-------\n",
      "level 4 :  13  +  48\n",
      "== stop: quality\t- 7 leaf\n",
      "-------split-------\n",
      "level 5 :  21  +  27\n",
      "-------split-------\n",
      "level 6 :  13  +  8\n",
      "-------split-------\n",
      "level 7 :  8  +  5\n",
      "-------split-------\n",
      "level 8 :  4  +  4\n",
      "== stop: quality\t- 8 leaf\n",
      "-------split-------\n",
      "level 9 :  2  +  2\n",
      "-------split-------\n",
      "level 10 :  1  +  1\n",
      "== stop: quality\t- 9 leaf\n",
      "== stop: quality\t- 10 leaf\n",
      "== stop: quality\t- 11 leaf\n",
      "== stop: quality\t- 12 leaf\n",
      "== stop: quality\t- 13 leaf\n",
      "-------split-------\n",
      "level 6 :  3  +  24\n",
      "-------split-------\n",
      "level 7 :  1  +  2\n",
      "== stop: quality\t- 14 leaf\n",
      "== stop: quality\t- 15 leaf\n",
      "-------split-------\n",
      "level 7 :  22  +  2\n",
      "-------split-------\n",
      "level 8 :  20  +  2\n",
      "== stop: quality\t- 16 leaf\n",
      "-------split-------\n",
      "level 9 :  1  +  1\n",
      "== stop: quality\t- 17 leaf\n",
      "== stop: quality\t- 18 leaf\n",
      "-------split-------\n",
      "level 8 :  1  +  1\n",
      "== stop: quality\t- 19 leaf\n",
      "== stop: quality\t- 20 leaf\n",
      "== stop: quality\t- 21 leaf\n",
      "-------split-------\n",
      "level 2 :  37  +  329\n",
      "== stop: quality\t- 22 leaf\n",
      "-------split-------\n",
      "level 3 :  184  +  145\n",
      "-------split-------\n",
      "level 4 :  181  +  3\n",
      "-------split-------\n",
      "level 5 :  119  +  62\n",
      "== stop: quality\t- 23 leaf\n",
      "-------split-------\n",
      "level 6 :  1  +  61\n",
      "== stop: quality\t- 24 leaf\n",
      "== stop: quality\t- 25 leaf\n",
      "-------split-------\n",
      "level 5 :  2  +  1\n",
      "-------split-------\n",
      "level 6 :  1  +  1\n",
      "== stop: quality\t- 26 leaf\n",
      "== stop: quality\t- 27 leaf\n",
      "== stop: quality\t- 28 leaf\n",
      "== stop: quality\t- 29 leaf\n"
     ]
    }
   ],
   "source": [
    "counter_leaf = 0 # счетчик листьев\n",
    "counter_node = 0 # счетчик узлов\n",
    "print('TREE with Gini criterion')\n",
    "my_tree_gini = build_tree(train_data, train_labels, min_samples_leaf=1, max_depth=None, \n",
    "                          max_leaves=None)\n",
    "counter_leaf = 0 # счетчик листьев\n",
    "counter_node = 0 # счетчик узлов\n",
    "print(f'\\nTREE with Entropy criterion')\n",
    "my_tree_entropy = build_tree(train_data, train_labels, min_samples_leaf=1, max_depth=None, \n",
    "                             max_leaves=None, criterion='entropy')"
   ]
  },
  {
   "cell_type": "code",
   "execution_count": 20,
   "metadata": {
    "pycharm": {
     "name": "#%%\n"
    }
   },
   "outputs": [
    {
     "name": "stdout",
     "output_type": "stream",
     "text": [
      "95.33333333333334\n",
      "95.33333333333334\n"
     ]
    }
   ],
   "source": [
    "answers_gini = predict(test_data, my_tree_gini)\n",
    "print(accuracy_metric(test_labels, answers_gini))\n",
    "\n",
    "answers_entropy = predict(test_data, my_tree_entropy)\n",
    "print(accuracy_metric(test_labels, answers_entropy))"
   ]
  },
  {
   "cell_type": "markdown",
   "metadata": {},
   "source": [
    "Судя по метрикам, разницы между критериями информативности для этих данных нет."
   ]
  }
 ],
 "metadata": {
  "kernelspec": {
   "display_name": "Python 3",
   "language": "python",
   "name": "python3"
  },
  "language_info": {
   "codemirror_mode": {
    "name": "ipython",
    "version": 3
   },
   "file_extension": ".py",
   "mimetype": "text/x-python",
   "name": "python",
   "nbconvert_exporter": "python",
   "pygments_lexer": "ipython3",
   "version": "3.7.6"
  },
  "toc": {
   "base_numbering": 1,
   "nav_menu": {},
   "number_sections": false,
   "sideBar": true,
   "skip_h1_title": true,
   "title_cell": "Содержание",
   "title_sidebar": "Содержание",
   "toc_cell": false,
   "toc_position": {},
   "toc_section_display": true,
   "toc_window_display": false
  }
 },
 "nbformat": 4,
 "nbformat_minor": 2
}
